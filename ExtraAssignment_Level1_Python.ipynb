{
 "cells": [
  {
   "cell_type": "code",
   "execution_count": 1,
   "id": "4622f7b9-9dbd-480f-bedd-d2bc3662d4de",
   "metadata": {},
   "outputs": [
    {
     "name": "stdout",
     "output_type": "stream",
     "text": [
      "HOPE AI\n"
     ]
    }
   ],
   "source": [
    "#print Statement\n",
    "print(\"HOPE AI\")"
   ]
  },
  {
   "cell_type": "code",
   "execution_count": 3,
   "id": "7d76e435-1dd0-4530-8a7d-7d7bf0ac65e1",
   "metadata": {},
   "outputs": [
    {
     "name": "stdin",
     "output_type": "stream",
     "text": [
      "Enter your Institute Name? : HOPE AI\n"
     ]
    }
   ],
   "source": [
    "#Buy Input\n",
    "Name=input(\"Enter your Institute Name? :\")"
   ]
  },
  {
   "cell_type": "code",
   "execution_count": 5,
   "id": "aec807bf-a483-4232-8021-bd357aa9c7cc",
   "metadata": {},
   "outputs": [
    {
     "name": "stdin",
     "output_type": "stream",
     "text": [
      "Enter your Name : Raj\n",
      "Enter your Age : 15\n",
      "Enter your school name : Guru School\n",
      "Enter your degree : B.E CSE\n"
     ]
    }
   ],
   "source": [
    "#Buy Input\n",
    "Name=input(\"Enter your Name :\")\n",
    "Age=int(input(\"Enter your Age :\"))\n",
    "SchoolName=input(\"Enter your school name :\")\n",
    "Degree=input(\"Enter your degree :\")"
   ]
  },
  {
   "cell_type": "code",
   "execution_count": 11,
   "id": "f81d8504-52bd-43b4-ab7c-c6df6de8ac2f",
   "metadata": {},
   "outputs": [
    {
     "name": "stdout",
     "output_type": "stream",
     "text": [
      "a= 43\n",
      "b= 34\n",
      "add= 77\n"
     ]
    }
   ],
   "source": [
    "#Addition\n",
    "a=43\n",
    "b=34\n",
    "print(\"a=\",a)\n",
    "print(\"b=\",b)\n",
    "print(\"add=\",a+b)"
   ]
  },
  {
   "cell_type": "code",
   "execution_count": 13,
   "id": "574e685d-638a-4957-9504-18edd1ef4aed",
   "metadata": {},
   "outputs": [
    {
     "name": "stdout",
     "output_type": "stream",
     "text": [
      "a= 43\n",
      "b= 34\n",
      "add= 9\n"
     ]
    }
   ],
   "source": [
    "#Sutraction\n",
    "a=43\n",
    "b=34\n",
    "print(\"a=\",a)\n",
    "print(\"b=\",b)\n",
    "print(\"sub=\",a-b)"
   ]
  },
  {
   "cell_type": "code",
   "execution_count": 15,
   "id": "0dd3e001-d99e-4e2b-965a-090dce82dea0",
   "metadata": {},
   "outputs": [
    {
     "name": "stdout",
     "output_type": "stream",
     "text": [
      "a= 63\n",
      "b= 97\n",
      "add= 6111\n"
     ]
    }
   ],
   "source": [
    "#Multiplication\n",
    "a=63\n",
    "b=97\n",
    "print(\"a=\",a)\n",
    "print(\"b=\",b)\n",
    "print(\"Mul=\",a*b)"
   ]
  },
  {
   "cell_type": "code",
   "execution_count": 19,
   "id": "9c0d1ff9-4e57-43ad-992d-4ea524ed884f",
   "metadata": {},
   "outputs": [
    {
     "name": "stdout",
     "output_type": "stream",
     "text": [
      "a= 78\n",
      "b= 31\n",
      "add= 2.5161290322580645\n"
     ]
    }
   ],
   "source": [
    "#Division\n",
    "a=78\n",
    "b=31\n",
    "print(\"a=\",a)\n",
    "print(\"b=\",b)\n",
    "print(\"Float Div=\",a/b)"
   ]
  },
  {
   "cell_type": "code",
   "execution_count": 21,
   "id": "a6d19dbc-0d5b-4427-ae85-2ca48cfad906",
   "metadata": {},
   "outputs": [
    {
     "name": "stdout",
     "output_type": "stream",
     "text": [
      "a= 78\n",
      "b= 31\n",
      "add= 2\n"
     ]
    }
   ],
   "source": [
    "#Floor Division\n",
    "a=78\n",
    "b=31\n",
    "print(\"a=\",a)\n",
    "print(\"b=\",b)\n",
    "print(\"Floor Div=\",a//b)"
   ]
  },
  {
   "cell_type": "code",
   "execution_count": 25,
   "id": "c74f61ee-caae-4036-b4f9-ee8529b43e9b",
   "metadata": {},
   "outputs": [
    {
     "name": "stdout",
     "output_type": "stream",
     "text": [
      "a= 78\n",
      "b= 31\n",
      "Modulo= 16\n"
     ]
    }
   ],
   "source": [
    "#Modulo\n",
    "a=78\n",
    "b=31\n",
    "print(\"a=\",a)\n",
    "print(\"b=\",b)\n",
    "print(\"Modulo=\",a % b)"
   ]
  },
  {
   "cell_type": "code",
   "execution_count": 27,
   "id": "6dea35f1-8f1e-4009-98b1-72e9ce5883d3",
   "metadata": {},
   "outputs": [
    {
     "name": "stdout",
     "output_type": "stream",
     "text": [
      "a= 4\n",
      "b= 4\n",
      "Power= 256\n"
     ]
    }
   ],
   "source": [
    "#Power\n",
    "a=4\n",
    "b=4\n",
    "print(\"a=\",a)\n",
    "print(\"b=\",b)\n",
    "print(\"Power=\",a**b)"
   ]
  },
  {
   "cell_type": "code",
   "execution_count": null,
   "id": "f4702091-7a40-42d7-8dc7-65e8539c65e5",
   "metadata": {},
   "outputs": [],
   "source": []
  }
 ],
 "metadata": {
  "kernelspec": {
   "display_name": "Python [conda env:base] *",
   "language": "python",
   "name": "conda-base-py"
  },
  "language_info": {
   "codemirror_mode": {
    "name": "ipython",
    "version": 3
   },
   "file_extension": ".py",
   "mimetype": "text/x-python",
   "name": "python",
   "nbconvert_exporter": "python",
   "pygments_lexer": "ipython3",
   "version": "3.12.7"
  }
 },
 "nbformat": 4,
 "nbformat_minor": 5
}
