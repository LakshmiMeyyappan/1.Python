{
 "cells": [
  {
   "cell_type": "code",
   "execution_count": 1,
   "id": "d989df6a-0216-4f09-be74-231b5bdb9482",
   "metadata": {},
   "outputs": [
    {
     "name": "stdout",
     "output_type": "stream",
     "text": [
      "Welcome to Assignment-1\n"
     ]
    }
   ],
   "source": [
    "#Assignment-1\n",
    "print(\"Welcome to Assignment-1\")"
   ]
  },
  {
   "cell_type": "code",
   "execution_count": 5,
   "id": "76a1f390-dba8-4486-8157-b6cf7f5dbd36",
   "metadata": {},
   "outputs": [
    {
     "name": "stdin",
     "output_type": "stream",
     "text": [
      "Num1 =  10\n",
      "Num2 =  30\n"
     ]
    },
    {
     "name": "stdout",
     "output_type": "stream",
     "text": [
      "Add = 40\n"
     ]
    }
   ],
   "source": [
    "Num1=int(input(\"Num1 = \"))\n",
    "Num2=int(input(\"Num2 = \"))\n",
    "print(\"Add =\", Num1+Num2)"
   ]
  },
  {
   "cell_type": "code",
   "execution_count": 25,
   "id": "96e1709f-1a6f-49e0-9885-1479e2db65d8",
   "metadata": {},
   "outputs": [
    {
     "name": "stdin",
     "output_type": "stream",
     "text": [
      "Enter the BMI Index 34\n"
     ]
    },
    {
     "name": "stdout",
     "output_type": "stream",
     "text": [
      "Moderately Obese\n"
     ]
    }
   ],
   "source": [
    "#Body Mass Index\n",
    "Bmi=int(input(\"Enter the BMI Index\"))\n",
    "if(Bmi<18.5):\n",
    "    print(\"Under Weight\")\n",
    "elif(Bmi<24.9):\n",
    "    print(\"Normal Weight\")\n",
    "elif(Bmi<29.9):\n",
    "    print(\"Over Weight\")\n",
    "elif(Bmi<34.9):\n",
    "    print(\"Moderately Obese\")\n",
    "elif(Bmi<39.9):\n",
    "    print(\"Severly Obese\")\n",
    "else:\n",
    "    print(\"Morbidly Obese\")"
   ]
  },
  {
   "cell_type": "code",
   "execution_count": null,
   "id": "688f15be-3bde-4f35-b4a3-40d386fd53fc",
   "metadata": {},
   "outputs": [],
   "source": []
  }
 ],
 "metadata": {
  "kernelspec": {
   "display_name": "Python [conda env:base] *",
   "language": "python",
   "name": "conda-base-py"
  },
  "language_info": {
   "codemirror_mode": {
    "name": "ipython",
    "version": 3
   },
   "file_extension": ".py",
   "mimetype": "text/x-python",
   "name": "python",
   "nbconvert_exporter": "python",
   "pygments_lexer": "ipython3",
   "version": "3.12.7"
  }
 },
 "nbformat": 4,
 "nbformat_minor": 5
}
