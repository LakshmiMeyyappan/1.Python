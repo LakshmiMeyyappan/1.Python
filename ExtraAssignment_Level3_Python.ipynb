{
 "cells": [
  {
   "cell_type": "code",
   "execution_count": 1,
   "id": "58fd5320-cf48-47aa-8450-4293f5321e72",
   "metadata": {},
   "outputs": [
    {
     "name": "stdout",
     "output_type": "stream",
     "text": [
      "value: 10\n",
      "Correct\n"
     ]
    }
   ],
   "source": [
    "#print correct if i==10\n",
    "value=10\n",
    "print(\"value:\",value)\n",
    "if(value==10):\n",
    "    print(\"Correct\")"
   ]
  },
  {
   "cell_type": "code",
   "execution_count": 3,
   "id": "68d276a8-e000-4a67-92c0-cc70265cfb34",
   "metadata": {},
   "outputs": [
    {
     "name": "stdin",
     "output_type": "stream",
     "text": [
      "Enter the password : HOPE@123\n"
     ]
    },
    {
     "name": "stdout",
     "output_type": "stream",
     "text": [
      "your password is correct\n"
     ]
    }
   ],
   "source": [
    "#check the password using if and else\n",
    "Pwd=input(\"Enter the password :\")\n",
    "if(Pwd==\"HOPE@123\"):\n",
    "    print(\"your password is correct\")\n",
    "else:\n",
    "    print(\"Your password is Incorrect\")"
   ]
  },
  {
   "cell_type": "code",
   "execution_count": 5,
   "id": "1246118b-fcf7-4737-84dd-c83dcb7e698a",
   "metadata": {},
   "outputs": [
    {
     "name": "stdin",
     "output_type": "stream",
     "text": [
      "enter the age 60\n"
     ]
    },
    {
     "name": "stdout",
     "output_type": "stream",
     "text": [
      "Senior Citizen\n"
     ]
    }
   ],
   "source": [
    "#Catagory the people by their age\n",
    "Age=int(input(\"enter the age\"))\n",
    "if(Age<18):\n",
    "    print(\"Children\")\n",
    "elif(Age<35):\n",
    "    print(\"Adult\")\n",
    "elif(Age<59):\n",
    "    print(\"Citizen\")\n",
    "else:\n",
    "    print(\"Senior Citizen\")      "
   ]
  },
  {
   "cell_type": "code",
   "execution_count": 7,
   "id": "067dc140-ae47-40fd-8ce7-a1ef63fe2d11",
   "metadata": {},
   "outputs": [
    {
     "name": "stdin",
     "output_type": "stream",
     "text": [
      "Enter any number : -40\n"
     ]
    },
    {
     "name": "stdout",
     "output_type": "stream",
     "text": [
      "The number is Negative\n"
     ]
    }
   ],
   "source": [
    "#Find the given number is positive or negative\n",
    "Num=int(input(\"Enter any number :\"))\n",
    "if(Num<0):\n",
    "    print(\"The number is Negative\")\n",
    "else:\n",
    "    print(\"The number is Positive\")"
   ]
  },
  {
   "cell_type": "code",
   "execution_count": 9,
   "id": "39be85ea-93b1-4285-8724-c5fc89597332",
   "metadata": {},
   "outputs": [
    {
     "name": "stdin",
     "output_type": "stream",
     "text": [
      "Enter a number to check: 43\n"
     ]
    },
    {
     "name": "stdout",
     "output_type": "stream",
     "text": [
      "The number is not divisible by 5\n"
     ]
    }
   ],
   "source": [
    "#check the given number is divisible by 5\n",
    "Num=int(input(\"Enter a number to check:\"))\n",
    "if(Num%5==0):\n",
    "    print(\"The number is divisible by 5\")\n",
    "else:\n",
    "    print(\"The number is not divisible by 5\")"
   ]
  },
  {
   "cell_type": "code",
   "execution_count": null,
   "id": "dafd596b-c7de-4ae9-b3d1-d972a3c3555b",
   "metadata": {},
   "outputs": [],
   "source": []
  }
 ],
 "metadata": {
  "kernelspec": {
   "display_name": "Python [conda env:base] *",
   "language": "python",
   "name": "conda-base-py"
  },
  "language_info": {
   "codemirror_mode": {
    "name": "ipython",
    "version": 3
   },
   "file_extension": ".py",
   "mimetype": "text/x-python",
   "name": "python",
   "nbconvert_exporter": "python",
   "pygments_lexer": "ipython3",
   "version": "3.12.7"
  }
 },
 "nbformat": 4,
 "nbformat_minor": 5
}
