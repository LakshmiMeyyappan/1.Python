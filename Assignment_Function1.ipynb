{
 "cells": [
  {
   "cell_type": "code",
   "execution_count": 1,
   "id": "396cf13b-6237-4e2b-81f6-22d869500d0e",
   "metadata": {},
   "outputs": [],
   "source": [
    "#List out the items using function\n",
    "def SubFields():\n",
    "    print(\"Sub Fields in AI are:\")\n",
    "    lists=['Machine Learning','Neural Networks','Vision','Robotics','Speech Processing','Natural Language Processing']\n",
    "    for item in lists:\n",
    "        print(item)\n",
    "       # return lists"
   ]
  },
  {
   "cell_type": "code",
   "execution_count": 2,
   "id": "b9469bd4-f377-465b-8fd4-f9b30c541724",
   "metadata": {},
   "outputs": [
    {
     "name": "stdout",
     "output_type": "stream",
     "text": [
      "Sub Fields in AI are:\n",
      "Machine Learning\n",
      "Neural Networks\n",
      "Vision\n",
      "Robotics\n",
      "Speech Processing\n",
      "Natural Language Processing\n"
     ]
    }
   ],
   "source": [
    "SubFields()"
   ]
  },
  {
   "cell_type": "code",
   "execution_count": 5,
   "id": "0218662f-ef14-4a08-88f3-deb6a34952b4",
   "metadata": {},
   "outputs": [],
   "source": [
    "#check the given number is odd or even using function\n",
    "def OddEven():\n",
    "    num=int(input(\"Enter a number\"))\n",
    "    if(num%2==0):\n",
    "        print(num, \"is Even Number\")\n",
    "    else:\n",
    "        print(num, \"is Odd Number\")\n",
    "    #return num"
   ]
  },
  {
   "cell_type": "code",
   "execution_count": 7,
   "id": "d97f9890-a212-4db1-8ac8-5e954462dff5",
   "metadata": {},
   "outputs": [
    {
     "name": "stdin",
     "output_type": "stream",
     "text": [
      "Enter a number 52452\n"
     ]
    },
    {
     "name": "stdout",
     "output_type": "stream",
     "text": [
      "52452 is Even Number\n"
     ]
    }
   ],
   "source": [
    "OddEven()"
   ]
  },
  {
   "cell_type": "code",
   "execution_count": 11,
   "id": "2d6a3cd0-44c1-4087-aa56-a35f4780b4d4",
   "metadata": {},
   "outputs": [],
   "source": [
    "#function to check marriage eligibility\n",
    "def Eligible():\n",
    "    Gender=input(\"Your Gender:\")\n",
    "    Age=int(input(\"Your Age:\"))\n",
    "    if(Gender=='male' and Age>=21):\n",
    "        print(\"ELIGIBLE\")\n",
    "        #message=\"eligible\"\n",
    "    elif(Gender=='female' and Age>=18):\n",
    "        print(\"ELIGIBLE\")\n",
    "        #message=\"eligible\"\n",
    "    else:\n",
    "        print(\"NOT ELIGIBLE\")\n",
    "        #message=\"not eligible\"\n",
    "   # return message"
   ]
  },
  {
   "cell_type": "code",
   "execution_count": 13,
   "id": "f141858e-219b-4e58-b6e5-a7d3a04bb971",
   "metadata": {},
   "outputs": [
    {
     "name": "stdin",
     "output_type": "stream",
     "text": [
      "Your Gender: Male\n",
      "Your Age: 20\n"
     ]
    },
    {
     "name": "stdout",
     "output_type": "stream",
     "text": [
      "NOT ELIGIBLE\n"
     ]
    }
   ],
   "source": [
    "Eligible()"
   ]
  },
  {
   "cell_type": "code",
   "execution_count": 15,
   "id": "e928082c-87a4-4b93-9566-1d196d93ff31",
   "metadata": {},
   "outputs": [],
   "source": [
    "#Percentage Calculation\n",
    "def Percentage():\n",
    "    Sub1=int(input(\"Subject 1 =\"))\n",
    "    Sub2=int(input(\"Subject 2 =\"))\n",
    "    Sub3=int(input(\"Subject 3 =\"))\n",
    "    Sub4=int(input(\"Subject 4 =\"))\n",
    "    Sub5=int(input(\"Subject 5 =\"))\n",
    "    Total=Sub1+Sub2+Sub3+Sub4+Sub5\n",
    "    print(\"Total :\",Total)\n",
    "    Percentage=(Total/500)*100\n",
    "    print(\"Percentage:\",Percentage)\n",
    "    #return Percentage"
   ]
  },
  {
   "cell_type": "code",
   "execution_count": 17,
   "id": "dfd5108d-639a-405f-a23f-7c2cc5ae403e",
   "metadata": {},
   "outputs": [
    {
     "name": "stdin",
     "output_type": "stream",
     "text": [
      "Subject 1 = 98\n",
      "Subject 2 = 87\n",
      "Subject 3 = 95\n",
      "Subject 4 = 95\n",
      "Subject 5 = 93\n"
     ]
    },
    {
     "name": "stdout",
     "output_type": "stream",
     "text": [
      "Total : 468\n",
      "Percentage: 93.60000000000001\n"
     ]
    }
   ],
   "source": [
    "Percentage()"
   ]
  },
  {
   "cell_type": "code",
   "execution_count": 19,
   "id": "80f6263e-bef3-431f-9e63-9287d7cad1c4",
   "metadata": {},
   "outputs": [],
   "source": [
    "#print Area and Perimeter of a Triangle\n",
    "def Triangle():\n",
    "    Height=int(input(\"Height:\"))\n",
    "    Breadth=int(input(\"Breadth\"))\n",
    "    Area=(Height*Breadth)/2\n",
    "    print(\"Area Formula (Height*Breadth)/2\")\n",
    "    print(\"Area of Triangle :\", Area)\n",
    "    Height1=int(input(\"Height 1:\"))\n",
    "    Height2=int(input(\"Height 2:\"))\n",
    "    Breadth=int(input(\"Breadth\"))\n",
    "    Perimeter=Height1+Height2+Breadth\n",
    "    print(\"Perimeter Formula Height1+Height2+Breadth\")\n",
    "    print(\"Perimeter of Triangle :\", Perimeter)\n",
    "    #return Area,Perimeter"
   ]
  },
  {
   "cell_type": "code",
   "execution_count": 21,
   "id": "651940a1-b307-4c1f-8793-af4c32d82d47",
   "metadata": {},
   "outputs": [
    {
     "name": "stdin",
     "output_type": "stream",
     "text": [
      "Height: 32\n",
      "Breadth 34\n"
     ]
    },
    {
     "name": "stdout",
     "output_type": "stream",
     "text": [
      "Area Formula (Height*Breadth)/2\n",
      "Area of Triangle : 544.0\n"
     ]
    },
    {
     "name": "stdin",
     "output_type": "stream",
     "text": [
      "Height 1: 2\n",
      "Height 2: 4\n",
      "Breadth 4\n"
     ]
    },
    {
     "name": "stdout",
     "output_type": "stream",
     "text": [
      "Perimeter Formula Height1+Height2+Breadth\n",
      "Perimeter of Triangle : 10\n"
     ]
    }
   ],
   "source": [
    "Triangle()"
   ]
  },
  {
   "cell_type": "code",
   "execution_count": null,
   "id": "6d0d7864-2716-4f10-90ec-24e01d5c4729",
   "metadata": {},
   "outputs": [],
   "source": []
  }
 ],
 "metadata": {
  "kernelspec": {
   "display_name": "Python [conda env:base] *",
   "language": "python",
   "name": "conda-base-py"
  },
  "language_info": {
   "codemirror_mode": {
    "name": "ipython",
    "version": 3
   },
   "file_extension": ".py",
   "mimetype": "text/x-python",
   "name": "python",
   "nbconvert_exporter": "python",
   "pygments_lexer": "ipython3",
   "version": "3.12.7"
  }
 },
 "nbformat": 4,
 "nbformat_minor": 5
}
