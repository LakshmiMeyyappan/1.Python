{
 "cells": [
  {
   "cell_type": "code",
   "execution_count": 6,
   "id": "9c404bbd-0fad-4c96-99a7-ae7cb70f9572",
   "metadata": {},
   "outputs": [],
   "source": [
    "from SampleClassAssignment import SampleClass"
   ]
  },
  {
   "cell_type": "code",
   "execution_count": 8,
   "id": "bcfba93e-0652-4828-afc8-1cf8283c5249",
   "metadata": {},
   "outputs": [
    {
     "name": "stdout",
     "output_type": "stream",
     "text": [
      "Sub Fields in AI are:\n",
      "Machine Learning\n",
      "Neural Networks\n",
      "Vision\n",
      "Robotics\n",
      "Speech Processing\n",
      "Natural Language Processing\n"
     ]
    }
   ],
   "source": [
    "SampleClass.SubFields()"
   ]
  },
  {
   "cell_type": "code",
   "execution_count": 10,
   "id": "5310e60f-0ef4-4760-a119-7bca800714f5",
   "metadata": {},
   "outputs": [
    {
     "name": "stdin",
     "output_type": "stream",
     "text": [
      "Enter a number 5254\n"
     ]
    },
    {
     "name": "stdout",
     "output_type": "stream",
     "text": [
      "5254 is Even Number\n"
     ]
    }
   ],
   "source": [
    "SampleClass.OddEven()"
   ]
  },
  {
   "cell_type": "code",
   "execution_count": 12,
   "id": "9dd94861-6703-4e5b-875f-b16aec4c1f67",
   "metadata": {},
   "outputs": [
    {
     "name": "stdin",
     "output_type": "stream",
     "text": [
      "Your Gender: male\n",
      "Your Age: 30\n"
     ]
    },
    {
     "name": "stdout",
     "output_type": "stream",
     "text": [
      "ELIGIBLE\n"
     ]
    }
   ],
   "source": [
    "SampleClass.Eligible()"
   ]
  },
  {
   "cell_type": "code",
   "execution_count": 14,
   "id": "017a9ae6-103a-45c3-a147-dc1ed9de2c16",
   "metadata": {},
   "outputs": [
    {
     "name": "stdin",
     "output_type": "stream",
     "text": [
      "Subject 1 = 98\n",
      "Subject 2 = 95\n",
      "Subject 3 = 95\n",
      "Subject 4 = 89\n",
      "Subject 5 = 86\n"
     ]
    },
    {
     "name": "stdout",
     "output_type": "stream",
     "text": [
      "Total : 463\n",
      "Percentage: 92.60000000000001\n"
     ]
    }
   ],
   "source": [
    "SampleClass.Percentage()"
   ]
  },
  {
   "cell_type": "code",
   "execution_count": 16,
   "id": "1332ef8a-9ccd-47aa-8740-ebbdecc7e2f0",
   "metadata": {},
   "outputs": [
    {
     "name": "stdin",
     "output_type": "stream",
     "text": [
      "Height: 45\n",
      "Breadth 40\n"
     ]
    },
    {
     "name": "stdout",
     "output_type": "stream",
     "text": [
      "Area Formula (Height*Breadth)/2\n",
      "Area of Triangle : 900.0\n"
     ]
    },
    {
     "name": "stdin",
     "output_type": "stream",
     "text": [
      "Height 1: 4\n",
      "Height 2: 6\n",
      "Breadth 8\n"
     ]
    },
    {
     "name": "stdout",
     "output_type": "stream",
     "text": [
      "Perimeter Formula Height1+Height2+Breadth\n",
      "Perimeter of Triangle : 18\n"
     ]
    }
   ],
   "source": [
    "SampleClass.Triangle()"
   ]
  },
  {
   "cell_type": "code",
   "execution_count": null,
   "id": "473eb0fc-a26b-45b7-b7bf-fb26d1b9aea1",
   "metadata": {},
   "outputs": [],
   "source": []
  }
 ],
 "metadata": {
  "kernelspec": {
   "display_name": "Python [conda env:base] *",
   "language": "python",
   "name": "conda-base-py"
  },
  "language_info": {
   "codemirror_mode": {
    "name": "ipython",
    "version": 3
   },
   "file_extension": ".py",
   "mimetype": "text/x-python",
   "name": "python",
   "nbconvert_exporter": "python",
   "pygments_lexer": "ipython3",
   "version": "3.12.7"
  }
 },
 "nbformat": 4,
 "nbformat_minor": 5
}
