{
 "cells": [
  {
   "cell_type": "code",
   "execution_count": 1,
   "id": "7bf18ae9-ae06-47ae-8d42-5064e41c8ac7",
   "metadata": {},
   "outputs": [],
   "source": [
    "#List the items using class and function\n",
    "class SubFieldsInAI():\n",
    "    def SubFields():\n",
    "        print(\"Sub Fields in AI are:\")\n",
    "        lists=['Machine Learning','Neural Networks','Vision','Robotics','Speech Processing','Natural Language Processing']\n",
    "        for item in lists:\n",
    "            print(item)\n",
    "           # return lists"
   ]
  },
  {
   "cell_type": "code",
   "execution_count": 3,
   "id": "95891c09-49e7-4702-a27f-b7c7e13aaa79",
   "metadata": {},
   "outputs": [
    {
     "name": "stdout",
     "output_type": "stream",
     "text": [
      "Sub Fields in AI are:\n",
      "Machine Learning\n",
      "Neural Networks\n",
      "Vision\n",
      "Robotics\n",
      "Speech Processing\n",
      "Natural Language Processing\n"
     ]
    }
   ],
   "source": [
    "SubFieldsInAI.SubFields()"
   ]
  },
  {
   "cell_type": "code",
   "execution_count": 5,
   "id": "c6558d3a-be39-4838-a227-fa47e6fe0d22",
   "metadata": {},
   "outputs": [],
   "source": [
    "#check the given number is odd or even using function\n",
    "class OddEven():\n",
    "    def OddEven():\n",
    "        num=int(input(\"Enter a number\"))\n",
    "        if(num%2==0):\n",
    "            print(num, \"is Even Number\")\n",
    "        else:\n",
    "            print(num, \"is Odd Number\")\n",
    "        #return num"
   ]
  },
  {
   "cell_type": "code",
   "execution_count": 7,
   "id": "ed9cfa71-4472-4e3a-9e0d-62d656f88a98",
   "metadata": {},
   "outputs": [
    {
     "name": "stdin",
     "output_type": "stream",
     "text": [
      "Enter a number 3456\n"
     ]
    },
    {
     "name": "stdout",
     "output_type": "stream",
     "text": [
      "3456 is Even Number\n"
     ]
    }
   ],
   "source": [
    "OddEven.OddEven()"
   ]
  },
  {
   "cell_type": "code",
   "execution_count": 9,
   "id": "8d598378-b849-46d6-b02d-47b4c823797b",
   "metadata": {},
   "outputs": [],
   "source": [
    "#function to check marriage eligibility\n",
    "class EligibilityForMarriage():\n",
    "    def Eligible():\n",
    "        Gender=input(\"Your Gender:\")\n",
    "        Age=int(input(\"Your Age:\"))\n",
    "        if(Gender=='male' and Age>=21):\n",
    "            print(\"ELIGIBLE\")\n",
    "            #message=\"eligible\"\n",
    "        elif(Gender=='female' and Age>=18):\n",
    "            print(\"ELIGIBLE\")\n",
    "            #message=\"eligible\"\n",
    "        else:\n",
    "            print(\"NOT ELIGIBLE\")\n",
    "            #message=\"not eligible\"\n",
    "       # return message"
   ]
  },
  {
   "cell_type": "code",
   "execution_count": 11,
   "id": "e3edf5dd-4ce5-4f6f-acaa-aa6f546c56dc",
   "metadata": {},
   "outputs": [
    {
     "name": "stdin",
     "output_type": "stream",
     "text": [
      "Your Gender: male\n",
      "Your Age: 20\n"
     ]
    },
    {
     "name": "stdout",
     "output_type": "stream",
     "text": [
      "NOT ELIGIBLE\n"
     ]
    }
   ],
   "source": [
    "EligibilityForMarriage.Eligible()"
   ]
  },
  {
   "cell_type": "code",
   "execution_count": 13,
   "id": "a424014b-079d-45b5-bdbf-a25b6054b555",
   "metadata": {},
   "outputs": [],
   "source": [
    "#Percentage Calculation\n",
    "class FindPercentage():\n",
    "    def Percentage():\n",
    "        Sub1=int(input(\"Subject 1 =\"))\n",
    "        Sub2=int(input(\"Subject 2 =\"))\n",
    "        Sub3=int(input(\"Subject 3 =\"))\n",
    "        Sub4=int(input(\"Subject 4 =\"))\n",
    "        Sub5=int(input(\"Subject 5 =\"))\n",
    "        Total=Sub1+Sub2+Sub3+Sub4+Sub5\n",
    "        print(\"Total :\",Total)\n",
    "        Percentage=(Total/500)*100\n",
    "        print(\"Percentage:\",Percentage)\n",
    "        #return Percentage"
   ]
  },
  {
   "cell_type": "code",
   "execution_count": 15,
   "id": "20129733-43b4-480f-86fa-68e395fc6e1d",
   "metadata": {},
   "outputs": [
    {
     "name": "stdin",
     "output_type": "stream",
     "text": [
      "Subject 1 = 98\n",
      "Subject 2 = 87\n",
      "Subject 3 = 95\n",
      "Subject 4 = 95\n",
      "Subject 5 = 85\n"
     ]
    },
    {
     "name": "stdout",
     "output_type": "stream",
     "text": [
      "Total : 460\n",
      "Percentage: 92.0\n"
     ]
    }
   ],
   "source": [
    "FindPercentage.Percentage()"
   ]
  },
  {
   "cell_type": "code",
   "execution_count": 17,
   "id": "1b7fdef5-d033-4ccb-a8ed-efced675b1d9",
   "metadata": {},
   "outputs": [],
   "source": [
    "#print Area and Perimeter of a Triangle\n",
    "class FindTriangle():\n",
    "    def Triangle():\n",
    "        Height=int(input(\"Height:\"))\n",
    "        Breadth=int(input(\"Breadth\"))\n",
    "        Area=(Height*Breadth)/2\n",
    "        print(\"Area Formula (Height*Breadth)/2\")\n",
    "        print(\"Area of Triangle :\", Area)\n",
    "        Height1=int(input(\"Height 1:\"))\n",
    "        Height2=int(input(\"Height 2:\"))\n",
    "        Breadth=int(input(\"Breadth\"))\n",
    "        Perimeter=Height1+Height2+Breadth\n",
    "        print(\"Perimeter Formula Height1+Height2+Breadth\")\n",
    "        print(\"Perimeter of Triangle :\", Perimeter)\n",
    "        #return Area,Perimeter"
   ]
  },
  {
   "cell_type": "code",
   "execution_count": 19,
   "id": "f8c8a0de-153c-461e-b8a2-2f3532db3612",
   "metadata": {},
   "outputs": [
    {
     "name": "stdin",
     "output_type": "stream",
     "text": [
      "Height: 34\n",
      "Breadth 30\n"
     ]
    },
    {
     "name": "stdout",
     "output_type": "stream",
     "text": [
      "Area Formula (Height*Breadth)/2\n",
      "Area of Triangle : 510.0\n"
     ]
    },
    {
     "name": "stdin",
     "output_type": "stream",
     "text": [
      "Height 1: 2\n",
      "Height 2: 6\n",
      "Breadth 4\n"
     ]
    },
    {
     "name": "stdout",
     "output_type": "stream",
     "text": [
      "Perimeter Formula Height1+Height2+Breadth\n",
      "Perimeter of Triangle : 12\n"
     ]
    }
   ],
   "source": [
    "FindTriangle.Triangle()"
   ]
  },
  {
   "cell_type": "code",
   "execution_count": null,
   "id": "796cfecf-5128-4834-9290-15e30e881579",
   "metadata": {},
   "outputs": [],
   "source": []
  }
 ],
 "metadata": {
  "kernelspec": {
   "display_name": "Python [conda env:base] *",
   "language": "python",
   "name": "conda-base-py"
  },
  "language_info": {
   "codemirror_mode": {
    "name": "ipython",
    "version": 3
   },
   "file_extension": ".py",
   "mimetype": "text/x-python",
   "name": "python",
   "nbconvert_exporter": "python",
   "pygments_lexer": "ipython3",
   "version": "3.12.7"
  }
 },
 "nbformat": 4,
 "nbformat_minor": 5
}
